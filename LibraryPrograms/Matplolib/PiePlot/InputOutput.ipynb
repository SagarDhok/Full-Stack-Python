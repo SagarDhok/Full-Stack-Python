{
 "cells": [
  {
   "cell_type": "code",
   "execution_count": 11,
   "metadata": {},
   "outputs": [
    {
     "name": "stdout",
     "output_type": "stream",
     "text": [
      "Ndarray object Data saved into the Binary File(.npy)\n"
     ]
    }
   ],
   "source": [
    "import numpy as np\n",
    "array1= np.array([[1,3,5],[7,9,11]])\n",
    "np.save(\"E:\\\\FULL STACK PYTHON\\\\LibraryPrograms\\\\file1.npy\",array1)\n",
    "print(\"Ndarray object Data saved into the Binary File(.npy)\")"
   ]
  },
  {
   "cell_type": "code",
   "execution_count": 12,
   "metadata": {},
   "outputs": [
    {
     "name": "stdout",
     "output_type": "stream",
     "text": [
      "[[ 1  3  5]\n",
      " [ 7  9 11]]\n"
     ]
    }
   ],
   "source": [
    "import numpy as np\n",
    "loaded_array = np.load(\"E:\\\\FULL STACK PYTHON\\\\LibraryPrograms\\\\file1.npy\")\n",
    "print(loaded_array)"
   ]
  },
  {
   "cell_type": "code",
   "execution_count": 13,
   "metadata": {},
   "outputs": [
    {
     "name": "stdout",
     "output_type": "stream",
     "text": [
      "Ndarray object Data saved into the Text File(.txt)\n"
     ]
    }
   ],
   "source": [
    "import numpy as np\n",
    "array2 = np.array([[1, 3, 5],[7, 9, 11]])\n",
    "np.savetxt(\"E:\\\\FULL STACK PYTHON\\\\LibraryPrograms\\\\file2.txt\",array2)\n",
    "print(\"Ndarray object Data saved into the Text File(.txt)\")"
   ]
  },
  {
   "cell_type": "code",
   "execution_count": 14,
   "metadata": {},
   "outputs": [
    {
     "name": "stdout",
     "output_type": "stream",
     "text": [
      "[[ 1.  3.  5.]\n",
      " [ 7.  9. 11.]]\n"
     ]
    }
   ],
   "source": [
    "import numpy as np\n",
    "loaded_array = np.loadtxt(\"E:\\\\FULL STACK PYTHON\\\\LibraryPrograms\\\\file2.txt\")\n",
    "print(loaded_array)"
   ]
  },
  {
   "cell_type": "code",
   "execution_count": 15,
   "metadata": {},
   "outputs": [
    {
     "name": "stdout",
     "output_type": "stream",
     "text": [
      "Multiple Ndarray objects Data saved into the Single File (.npz)\n"
     ]
    }
   ],
   "source": [
    "#Save Multiple NumPy Array File(.npz Files)\n",
    "import numpy as np\n",
    "array1 = np.array([2, 6, 10])\n",
    "array2 = np.array([4, 8, 12])\n",
    "# save the two arrays into a single file\n",
    "np.savez(\"E:\\\\FULL STACK PYTHON\\\\LibraryPrograms\\\\file3.npz\",k=array1,v=array2)\n",
    "\n",
    "print(\"Multiple Ndarray objects Data saved into the Single File (.npz)\")"
   ]
  },
  {
   "cell_type": "code",
   "execution_count": 17,
   "metadata": {},
   "outputs": [
    {
     "name": "stdout",
     "output_type": "stream",
     "text": [
      "--------------------------------------\n",
      "[ 2  6 10]\n",
      "--------------------------------------\n",
      "[ 4  8 12]\n",
      "--------------------------------------\n"
     ]
    }
   ],
   "source": [
    "#Load Multiple NumPy Array File--Reading the Data from npz files\n",
    "import numpy as np\n",
    "load_data = np.load('E:\\\\FULL STACK PYTHON\\\\LibraryPrograms\\\\file3.npz')\n",
    "array1 = load_data[\"k\"]\n",
    "array2 = load_data[\"v\"]\n",
    "\n",
    "# display the loaded arrays\n",
    "print(\"--------------------------------------\")\n",
    "print(array1)\n",
    "print(\"--------------------------------------\")\n",
    "print(array2)\n",
    "print(\"--------------------------------------\")\n"
   ]
  },
  {
   "cell_type": "code",
   "execution_count": null,
   "metadata": {},
   "outputs": [],
   "source": []
  }
 ],
 "metadata": {
  "kernelspec": {
   "display_name": "base",
   "language": "python",
   "name": "python3"
  },
  "language_info": {
   "codemirror_mode": {
    "name": "ipython",
    "version": 3
   },
   "file_extension": ".py",
   "mimetype": "text/x-python",
   "name": "python",
   "nbconvert_exporter": "python",
   "pygments_lexer": "ipython3",
   "version": "3.12.7"
  }
 },
 "nbformat": 4,
 "nbformat_minor": 2
}
